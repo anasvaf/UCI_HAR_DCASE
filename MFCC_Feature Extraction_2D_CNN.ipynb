{
 "cells": [
  {
   "cell_type": "markdown",
   "metadata": {},
   "source": [
    "# 2D CNN classification of images of MFCCs"
   ]
  },
  {
   "cell_type": "code",
   "execution_count": 1,
   "metadata": {},
   "outputs": [
    {
     "name": "stderr",
     "output_type": "stream",
     "text": [
      "Using TensorFlow backend.\n"
     ]
    }
   ],
   "source": [
    "import os\n",
    "import pandas as pd\n",
    "from tqdm import tqdm\n",
    "import shutil\n",
    "import librosa\n",
    "import numpy as np\n",
    "import librosa.display\n",
    "import matplotlib.pyplot as plt\n",
    "from sklearn.preprocessing import LabelEncoder\n",
    "from sklearn.preprocessing import StandardScaler\n",
    "import keras\n",
    "from keras.models import Sequential\n",
    "from keras.layers import Dense, Dropout, Flatten, Conv2D, MaxPooling2D\n",
    "import time\n",
    "from keras.utils import np_utils\n",
    "from keras import backend as K\n",
    "from sklearn.manifold import TSNE\n",
    "from keras.models import load_model\n",
    "from keras.callbacks import ModelCheckpoint, EarlyStopping\n",
    "from sklearn.metrics import accuracy_score, f1_score, precision_score, recall_score, classification_report, confusion_matrix\n",
    "import seaborn as sns\n",
    "\n",
    "nb_class = 3"
   ]
  },
  {
   "cell_type": "code",
   "execution_count": null,
   "metadata": {},
   "outputs": [],
   "source": [
    "path_dcase2017_dev = 'data/TUT-acoustic-scenes-2017-development'\n",
    "path_dcase2017_eval = 'data/TUT-acoustic-scenes-2017-evaluation'\n",
    "path_dcase2017_data = os.path.join(path_dcase2017_dev, 'audio')\n",
    "path_dcase2017_data_final = os.path.join(path_dcase2017_eval, 'audio')\n",
    "path_evaluation_setup = os.path.join(path_dcase2017_dev, 'evaluation_setup')\n",
    "path_fold1_train_txt = os.path.join(path_evaluation_setup, 'fold1_train.txt')\n",
    "path_fold1_validation_txt = os.path.join(path_evaluation_setup, 'fold1_evaluate.txt')\n",
    "path_evaluation_setup_final = os.path.join(path_dcase2017_eval,'evaluation_setup')\n",
    "path_final_txt = os.path.join(path_evaluation_setup_final,'evaluate.txt')"
   ]
  },
  {
   "cell_type": "markdown",
   "metadata": {},
   "source": [
    "## Training dataset"
   ]
  },
  {
   "cell_type": "code",
   "execution_count": null,
   "metadata": {},
   "outputs": [],
   "source": [
    "train = pd.read_csv(path_fold1_train_txt, sep='\\t', names=['file', 'scene'], \n",
    "                    converters={'file': lambda s: s.replace('audio/', '')})\n",
    "\n",
    "validation = pd.read_csv(path_fold1_validation_txt, sep='\\t', names=['file', 'scene'], \n",
    "                         converters={'file': lambda s: s.replace('audio/', '')})"
   ]
  },
  {
   "cell_type": "code",
   "execution_count": null,
   "metadata": {},
   "outputs": [],
   "source": [
    "train['scene'] = train['scene'].replace(['beach', 'city_center', 'forest_path', 'park', 'residential_area'], \n",
    "                                        ['outdoor', 'outdoor', 'outdoor', 'outdoor', 'outdoor'])\n",
    "\n",
    "train['scene'] = train['scene'].replace(['bus', 'car', 'train', 'tram'], \n",
    "                                        ['vehicle', 'vehicle', 'vehicle', 'vehicle'])\n",
    "\n",
    "train['scene'] = train['scene'].replace(['cafe/restaurant', 'grocery_store', 'home', 'library', 'metro_station',\n",
    "                                        'office'], ['indoor', 'indoor', 'indoor', 'indoor', 'indoor', 'indoor'])"
   ]
  },
  {
   "cell_type": "code",
   "execution_count": null,
   "metadata": {},
   "outputs": [],
   "source": [
    "print(\"The size of training dataset is:\", len(train), \"recordings\")\n",
    "lab = pd.unique(train['scene'])\n",
    "print(lab)"
   ]
  },
  {
   "cell_type": "code",
   "execution_count": null,
   "metadata": {},
   "outputs": [],
   "source": [
    "for folder in lab:\n",
    "    directory = 'audio/train/fold1/'\n",
    "    os.makedirs(os.path.join(directory, str(folder)), exist_ok=True)\n",
    "\n",
    "train_file = train['file'].to_dict()"
   ]
  },
  {
   "cell_type": "code",
   "execution_count": null,
   "metadata": {},
   "outputs": [],
   "source": [
    "for path, subdirs, files in os.walk(path_dcase2017_data):\n",
    "    for file in tqdm(files):\n",
    "        if file in train_file.values():\n",
    "            directory = 'audio/train/fold1/'\n",
    "            folder = train.loc[train['file'] == file]['scene'].get_values()[0]\n",
    "            directory = directory + str(folder)\n",
    "            shutil.copy(path + \"/\" + file, directory)"
   ]
  },
  {
   "cell_type": "markdown",
   "metadata": {},
   "source": [
    "## Validation dataset"
   ]
  },
  {
   "cell_type": "code",
   "execution_count": null,
   "metadata": {},
   "outputs": [],
   "source": [
    "validation['scene'] = validation['scene'].replace(['beach', 'city_center', 'forest_path', 'park', \n",
    "                                                   'residential_area'], \n",
    "                                                  ['outdoor', 'outdoor', 'outdoor', 'outdoor', 'outdoor'])\n",
    "\n",
    "validation['scene'] = validation['scene'].replace(['bus', 'car', 'train', 'tram'], \n",
    "                                                  ['vehicle', 'vehicle', 'vehicle', 'vehicle'])\n",
    "\n",
    "validation['scene'] = validation['scene'].replace(['cafe/restaurant', 'grocery_store', 'home', \n",
    "                                                   'library', 'metro_station', 'office'], \n",
    "                                                  ['indoor', 'indoor', 'indoor', 'indoor', 'indoor', 'indoor'])"
   ]
  },
  {
   "cell_type": "code",
   "execution_count": null,
   "metadata": {},
   "outputs": [],
   "source": [
    "print(\"The size of validation dataset is:\", len(validation), \"recordings\")\n",
    "lab_val = pd.unique(validation['scene'])\n",
    "print(lab_val)"
   ]
  },
  {
   "cell_type": "code",
   "execution_count": null,
   "metadata": {},
   "outputs": [],
   "source": [
    "for folder in lab_val:\n",
    "    directory = 'audio/validation/fold1/'\n",
    "    os.makedirs(os.path.join(directory, str(folder)), exist_ok=True)\n",
    "\n",
    "validation_file = validation['file'].to_dict()"
   ]
  },
  {
   "cell_type": "code",
   "execution_count": null,
   "metadata": {},
   "outputs": [],
   "source": [
    "for path, subdirs, files in os.walk(path_dcase2017_data):\n",
    "    for file in tqdm(files):\n",
    "        if file in validation_file.values():\n",
    "            directory = 'audio/validation/fold1/'\n",
    "            folder = validation.loc[validation['file'] == file]['scene'].get_values()[0]\n",
    "            directory = directory + str(folder)\n",
    "            shutil.copy(path + \"/\" + file, directory)"
   ]
  },
  {
   "cell_type": "code",
   "execution_count": null,
   "metadata": {},
   "outputs": [],
   "source": [
    "train_wavs = 'audio/train/fold1'\n",
    "validation_wavs = 'audio/validation/fold1'"
   ]
  },
  {
   "cell_type": "code",
   "execution_count": null,
   "metadata": {},
   "outputs": [],
   "source": [
    "train_mfcc_features = []\n",
    "train_labels = []\n",
    "for path, subdirs, files in os.walk(train_wavs):\n",
    "    for file in tqdm(files):\n",
    "        path = path.replace(train_wavs, \"\")\n",
    "        y, _ = librosa.load(train_wavs + \"/\" + path + \"/\" + file, mono=True, sr=44100)\n",
    "        mfccs = librosa.feature.mfcc(y=y, sr=44100, n_mfcc=13, n_fft=2048, hop_length=1024)\n",
    "        train_mfcc_features.append(mfccs)\n",
    "        train_labels.append(path.replace(\"/\", \"\"))"
   ]
  },
  {
   "cell_type": "code",
   "execution_count": null,
   "metadata": {},
   "outputs": [],
   "source": [
    "print(np.shape(train_mfcc_features))\n",
    "print(np.shape(train_labels))"
   ]
  },
  {
   "cell_type": "code",
   "execution_count": null,
   "metadata": {},
   "outputs": [],
   "source": [
    "np.save('train_mfccs.npy', train_mfcc_features)\n",
    "np.save('train_labels.npy', train_labels)"
   ]
  },
  {
   "cell_type": "code",
   "execution_count": null,
   "metadata": {},
   "outputs": [],
   "source": [
    "validation_mfcc_features = []\n",
    "validation_labels = []\n",
    "for path, subdirs, files in os.walk(validation_wavs):\n",
    "    for file in tqdm(files):\n",
    "        path = path.replace(validation_wavs, \"\")\n",
    "        y, _ = librosa.load(validation_wavs + \"/\" + path + \"/\" + file, mono=True, sr=44100)\n",
    "        mfccs = librosa.feature.mfcc(y=y, sr=44100, n_mfcc=13, n_fft=2048, hop_length=1024)\n",
    "        validation_mfcc_features.append(mfccs)\n",
    "        validation_labels.append(path.replace(\"/\", \"\"))"
   ]
  },
  {
   "cell_type": "code",
   "execution_count": null,
   "metadata": {},
   "outputs": [],
   "source": [
    "print(np.shape(validation_mfcc_features))\n",
    "print(np.shape(validation_labels))"
   ]
  },
  {
   "cell_type": "code",
   "execution_count": null,
   "metadata": {},
   "outputs": [],
   "source": [
    "np.save('validation_mfccs.npy', validation_mfcc_features)\n",
    "np.save('validation_labels.npy', validation_labels)"
   ]
  },
  {
   "cell_type": "code",
   "execution_count": null,
   "metadata": {},
   "outputs": [],
   "source": [
    "validation_mfcc_features[1].shape"
   ]
  },
  {
   "cell_type": "code",
   "execution_count": null,
   "metadata": {},
   "outputs": [],
   "source": [
    "# outdoor class\n",
    "librosa.display.specshow(validation_mfcc_features[1], x_axis='time')\n",
    "plt.show()"
   ]
  },
  {
   "cell_type": "code",
   "execution_count": null,
   "metadata": {},
   "outputs": [],
   "source": [
    "# indoor class\n",
    "librosa.display.specshow(validation_mfcc_features[1160], x_axis='time')\n",
    "plt.show()"
   ]
  },
  {
   "cell_type": "code",
   "execution_count": null,
   "metadata": {},
   "outputs": [],
   "source": [
    "plt.plot(validation_mfcc_features[1])\n",
    "plt.show()"
   ]
  },
  {
   "cell_type": "code",
   "execution_count": 2,
   "metadata": {},
   "outputs": [],
   "source": [
    "train_mfcc_features = np.load('train_mfccs.npy')\n",
    "validation_mfcc_features = np.load('validation_mfccs.npy')\n",
    "\n",
    "train_labels = np.load('train_labels.npy')\n",
    "validation_labels =np.load('validation_labels.npy')\n",
    "\n",
    "train_label_encoder = LabelEncoder().fit(train_labels)\n",
    "train_labels = train_label_encoder.transform(train_labels)\n",
    "classes_train = list(train_label_encoder.classes_)"
   ]
  },
  {
   "cell_type": "code",
   "execution_count": 3,
   "metadata": {},
   "outputs": [
    {
     "data": {
      "text/plain": [
       "['indoor', 'outdoor', 'vehicle']"
      ]
     },
     "execution_count": 3,
     "metadata": {},
     "output_type": "execute_result"
    }
   ],
   "source": [
    "classes_train"
   ]
  },
  {
   "cell_type": "code",
   "execution_count": 4,
   "metadata": {},
   "outputs": [
    {
     "data": {
      "text/plain": [
       "3510"
      ]
     },
     "execution_count": 4,
     "metadata": {},
     "output_type": "execute_result"
    }
   ],
   "source": [
    "len(train_labels)"
   ]
  },
  {
   "cell_type": "code",
   "execution_count": 5,
   "metadata": {},
   "outputs": [],
   "source": [
    "train_scaled = []\n",
    "for i in range(len(train_mfcc_features)):\n",
    "    scaler_train = StandardScaler().fit(train_mfcc_features[i])\n",
    "    scaled_train = scaler_train.transform(train_mfcc_features[i])\n",
    "    train_scaled.append(scaled_train)"
   ]
  },
  {
   "cell_type": "code",
   "execution_count": 6,
   "metadata": {},
   "outputs": [],
   "source": [
    "validation_label_encoder = LabelEncoder().fit(validation_labels)\n",
    "validation_labels = validation_label_encoder.transform(validation_labels)\n",
    "classes_validation = list(validation_label_encoder.classes_)"
   ]
  },
  {
   "cell_type": "code",
   "execution_count": 7,
   "metadata": {},
   "outputs": [
    {
     "data": {
      "text/plain": [
       "['indoor', 'outdoor', 'vehicle']"
      ]
     },
     "execution_count": 7,
     "metadata": {},
     "output_type": "execute_result"
    }
   ],
   "source": [
    "classes_validation"
   ]
  },
  {
   "cell_type": "code",
   "execution_count": 8,
   "metadata": {},
   "outputs": [
    {
     "data": {
      "text/plain": [
       "1170"
      ]
     },
     "execution_count": 8,
     "metadata": {},
     "output_type": "execute_result"
    }
   ],
   "source": [
    "len(validation_labels)"
   ]
  },
  {
   "cell_type": "code",
   "execution_count": 9,
   "metadata": {},
   "outputs": [],
   "source": [
    "validation_scaled = []\n",
    "for i in range(len(validation_mfcc_features)):\n",
    "    scaler_validation = StandardScaler().fit(validation_mfcc_features[i])\n",
    "    scaled_validation = scaler_validation.transform(validation_mfcc_features[i])\n",
    "    validation_scaled.append(scaled_validation)"
   ]
  },
  {
   "cell_type": "code",
   "execution_count": 10,
   "metadata": {},
   "outputs": [],
   "source": [
    "X_train = train_scaled\n",
    "y_train = np_utils.to_categorical(train_labels)\n",
    "\n",
    "X_val = validation_scaled\n",
    "y_val = np_utils.to_categorical(validation_labels)"
   ]
  },
  {
   "cell_type": "code",
   "execution_count": 11,
   "metadata": {},
   "outputs": [],
   "source": [
    "# 2D convolution parameters\n",
    "\n",
    "NB_ROWS = 13     # corresponds to number of mfccs\n",
    "NB_COLS = 431    # correponds to the size of mfccs[i] (one mfcc)\n",
    "CHANNEL = 1      # the number of channels"
   ]
  },
  {
   "cell_type": "code",
   "execution_count": 12,
   "metadata": {},
   "outputs": [],
   "source": [
    "X_train = np.array(X_train)\n",
    "X_val = np.array(X_val)"
   ]
  },
  {
   "cell_type": "code",
   "execution_count": 13,
   "metadata": {},
   "outputs": [
    {
     "name": "stdout",
     "output_type": "stream",
     "text": [
      "[INFO] X_train_2D_cnn.shape = (3510, 13, 431, 1), y_train_2D_cnn_hot.shape = (3510, 3) \n",
      "[INFO] X_test_2D_cnn.shape = (1170, 13, 431, 1), y_test_2D_cnn_hot.shape = (1170, 3) \n"
     ]
    }
   ],
   "source": [
    "# Reshaping to perform 2D convolution\n",
    "X_train_2D_cnn = X_train.reshape(X_train.shape[0], NB_ROWS, NB_COLS, CHANNEL)\n",
    "X_test_2D_cnn = X_val.reshape(X_val.shape[0], NB_ROWS, NB_COLS, CHANNEL)\n",
    "\n",
    "y_train_2D_cnn_hot = y_train\n",
    "y_test_2D_cnn_hot = y_val\n",
    "\n",
    "print(\"[INFO] X_train_2D_cnn.shape = {}, y_train_2D_cnn_hot.shape = {} \".format(X_train_2D_cnn.shape, y_train_2D_cnn_hot.shape))\n",
    "print(\"[INFO] X_test_2D_cnn.shape = {}, y_test_2D_cnn_hot.shape = {} \".format(X_test_2D_cnn.shape, y_test_2D_cnn_hot.shape))"
   ]
  },
  {
   "cell_type": "code",
   "execution_count": 14,
   "metadata": {},
   "outputs": [
    {
     "name": "stdout",
     "output_type": "stream",
     "text": [
      "[DEBUG] y_train_2D_cnn_hot.shape = (3510, 3), y_train_2D_cnn_hot[0] = [0. 1. 0.]\n",
      "[DEBUG] y_test_2D_cnn_hot.shape = (1170, 3), y_test_2D_cnn_hot[0] = [0. 1. 0.]\n"
     ]
    }
   ],
   "source": [
    "# debug\n",
    "print(\"[DEBUG] y_train_2D_cnn_hot.shape = {}, y_train_2D_cnn_hot[0] = {}\".format(y_train_2D_cnn_hot.shape, y_train_2D_cnn_hot[0]))\n",
    "print(\"[DEBUG] y_test_2D_cnn_hot.shape = {}, y_test_2D_cnn_hot[0] = {}\".format(y_test_2D_cnn_hot.shape, y_test_2D_cnn_hot[0]))"
   ]
  },
  {
   "cell_type": "code",
   "execution_count": 15,
   "metadata": {},
   "outputs": [],
   "source": [
    "def construct_model(input_shape=(13, 431, 1), num_classes = 3):\n",
    "    \n",
    "    model = Sequential()\n",
    "    model.add(Conv2D(32, kernel_size=(2, 2), activation='relu', input_shape=input_shape))\n",
    "#     model.add(MaxPooling2D(pool_size=(2, 2)))\n",
    "    model.add(Conv2D(48, kernel_size=(2, 2), activation='relu'))\n",
    "    model.add(MaxPooling2D(pool_size=(2, 2)))\n",
    "    model.add(Conv2D(120, kernel_size=(2, 2), activation='relu'))\n",
    "    model.add(MaxPooling2D(pool_size=(2, 2)))\n",
    "#     model.add(Dropout(0.25))\n",
    "    model.add(Flatten())\n",
    "#     model.add(Dense(128, activation='relu'))\n",
    "#     model.add(Dropout(0.25))\n",
    "#     model.add(Dense(64, activation='relu'))\n",
    "#     model.add(Dropout(0.4))\n",
    "    model.add(Dense(num_classes, activation='softmax', name=\"output_layer\"))\n",
    "    model.compile(loss=keras.losses.categorical_crossentropy,\n",
    "                  optimizer=keras.optimizers.Adam(),\n",
    "                  metrics=['accuracy'])\n",
    "    model.summary()\n",
    "    \n",
    "    return model"
   ]
  },
  {
   "cell_type": "code",
   "execution_count": 16,
   "metadata": {
    "scrolled": false
   },
   "outputs": [
    {
     "name": "stdout",
     "output_type": "stream",
     "text": [
      "_________________________________________________________________\n",
      "Layer (type)                 Output Shape              Param #   \n",
      "=================================================================\n",
      "conv2d_1 (Conv2D)            (None, 12, 430, 32)       160       \n",
      "_________________________________________________________________\n",
      "conv2d_2 (Conv2D)            (None, 11, 429, 48)       6192      \n",
      "_________________________________________________________________\n",
      "max_pooling2d_1 (MaxPooling2 (None, 5, 214, 48)        0         \n",
      "_________________________________________________________________\n",
      "conv2d_3 (Conv2D)            (None, 4, 213, 120)       23160     \n",
      "_________________________________________________________________\n",
      "max_pooling2d_2 (MaxPooling2 (None, 2, 106, 120)       0         \n",
      "_________________________________________________________________\n",
      "flatten_1 (Flatten)          (None, 25440)             0         \n",
      "_________________________________________________________________\n",
      "output_layer (Dense)         (None, 3)                 76323     \n",
      "=================================================================\n",
      "Total params: 105,835\n",
      "Trainable params: 105,835\n",
      "Non-trainable params: 0\n",
      "_________________________________________________________________\n",
      "Train on 3510 samples, validate on 1170 samples\n",
      "Epoch 1/30\n",
      "3510/3510 [==============================] - 3s 814us/step - loss: 0.6140 - acc: 0.7516 - val_loss: 0.4686 - val_acc: 0.8077\n",
      "\n",
      "Epoch 00001: val_acc improved from -inf to 0.80769, saving model to model/fold1-weights-01-0.81.hdf5\n",
      "Epoch 2/30\n",
      "3510/3510 [==============================] - 1s 278us/step - loss: 0.3817 - acc: 0.8604 - val_loss: 0.3643 - val_acc: 0.8641\n",
      "\n",
      "Epoch 00002: val_acc improved from 0.80769 to 0.86410, saving model to model/fold1-weights-02-0.86.hdf5\n",
      "Epoch 3/30\n",
      "3510/3510 [==============================] - 1s 290us/step - loss: 0.2863 - acc: 0.9006 - val_loss: 0.4048 - val_acc: 0.8368\n",
      "\n",
      "Epoch 00003: val_acc did not improve from 0.86410\n",
      "Epoch 4/30\n",
      "3510/3510 [==============================] - 1s 273us/step - loss: 0.2448 - acc: 0.9097 - val_loss: 0.2943 - val_acc: 0.8897\n",
      "\n",
      "Epoch 00004: val_acc improved from 0.86410 to 0.88974, saving model to model/fold1-weights-04-0.89.hdf5\n",
      "Epoch 5/30\n",
      "3510/3510 [==============================] - 1s 275us/step - loss: 0.2130 - acc: 0.9248 - val_loss: 0.3258 - val_acc: 0.8778\n",
      "\n",
      "Epoch 00005: val_acc did not improve from 0.88974\n",
      "Epoch 6/30\n",
      "3510/3510 [==============================] - 1s 269us/step - loss: 0.1790 - acc: 0.9348 - val_loss: 0.2983 - val_acc: 0.8991\n",
      "\n",
      "Epoch 00006: val_acc improved from 0.88974 to 0.89915, saving model to model/fold1-weights-06-0.90.hdf5\n",
      "Epoch 7/30\n",
      "3510/3510 [==============================] - 1s 286us/step - loss: 0.1639 - acc: 0.9382 - val_loss: 0.3292 - val_acc: 0.8872\n",
      "\n",
      "Epoch 00007: val_acc did not improve from 0.89915\n",
      "Epoch 8/30\n",
      "3510/3510 [==============================] - 1s 269us/step - loss: 0.1480 - acc: 0.9467 - val_loss: 0.2914 - val_acc: 0.8974\n",
      "\n",
      "Epoch 00008: val_acc did not improve from 0.89915\n",
      "Epoch 9/30\n",
      "3510/3510 [==============================] - 1s 277us/step - loss: 0.1170 - acc: 0.9564 - val_loss: 0.2927 - val_acc: 0.8940\n",
      "\n",
      "Epoch 00009: val_acc did not improve from 0.89915\n",
      "Epoch 10/30\n",
      "3510/3510 [==============================] - 1s 261us/step - loss: 0.1025 - acc: 0.9632 - val_loss: 0.2433 - val_acc: 0.9171\n",
      "\n",
      "Epoch 00010: val_acc improved from 0.89915 to 0.91709, saving model to model/fold1-weights-10-0.92.hdf5\n",
      "Epoch 11/30\n",
      "3510/3510 [==============================] - 1s 281us/step - loss: 0.0915 - acc: 0.9698 - val_loss: 0.2892 - val_acc: 0.9009\n",
      "\n",
      "Epoch 00011: val_acc did not improve from 0.91709\n",
      "Epoch 12/30\n",
      "3510/3510 [==============================] - 1s 283us/step - loss: 0.0812 - acc: 0.9738 - val_loss: 0.2805 - val_acc: 0.9103\n",
      "\n",
      "Epoch 00012: val_acc did not improve from 0.91709\n",
      "Epoch 13/30\n",
      "3510/3510 [==============================] - 1s 289us/step - loss: 0.0715 - acc: 0.9769 - val_loss: 0.3211 - val_acc: 0.8983\n",
      "\n",
      "Epoch 00013: val_acc did not improve from 0.91709\n",
      "Epoch 14/30\n",
      "3510/3510 [==============================] - 1s 273us/step - loss: 0.0637 - acc: 0.9801 - val_loss: 0.3996 - val_acc: 0.8889\n",
      "\n",
      "Epoch 00014: val_acc did not improve from 0.91709\n",
      "Epoch 15/30\n",
      "3510/3510 [==============================] - 1s 270us/step - loss: 0.0503 - acc: 0.9840 - val_loss: 0.3134 - val_acc: 0.9145\n",
      "\n",
      "Epoch 00015: val_acc did not improve from 0.91709\n",
      "Epoch 00015: early stopping\n",
      "[INFO] Model trained in 16.88201403617859 ms\n"
     ]
    }
   ],
   "source": [
    "epochs = 30\n",
    "batch_size = 32\n",
    "verbose = 1\n",
    "num_classes = 3\n",
    "input_shape = (NB_ROWS, NB_COLS, CHANNEL)\n",
    "\n",
    "outputFolder = \"model\"\n",
    "\n",
    "# Create the model and fit it\n",
    "start = time.time()\n",
    "model = construct_model(input_shape=input_shape, num_classes=num_classes)\n",
    "filepath = outputFolder + \"/fold1-weights-{epoch:02d}-{val_acc:.2f}.hdf5\"\n",
    "checkpoint = ModelCheckpoint(filepath, monitor='val_acc', verbose=1,\n",
    "                             save_best_only=True, save_weights_only=True, \n",
    "                             mode='auto')\n",
    "\n",
    "earlystop = EarlyStopping(monitor='val_acc', patience=5,\n",
    "                          verbose=verbose, mode='auto')\n",
    "\n",
    "callbacks_list = [checkpoint, earlystop]\n",
    "history = model.fit(X_train_2D_cnn, \n",
    "                    y_train_2D_cnn_hot, \n",
    "                    batch_size=batch_size, \n",
    "                    epochs=epochs,\n",
    "                    callbacks=callbacks_list,\n",
    "                    verbose=verbose, \n",
    "                    validation_data=(X_test_2D_cnn, y_test_2D_cnn_hot))\n",
    "end = time.time()\n",
    "\n",
    "print(\"[INFO] Model trained in {} ms\".format((end-start)))\n",
    "model.save('mfcc_fold1.h5')"
   ]
  },
  {
   "cell_type": "code",
   "execution_count": 17,
   "metadata": {},
   "outputs": [
    {
     "name": "stdout",
     "output_type": "stream",
     "text": [
      "dict_keys(['val_loss', 'loss', 'acc', 'val_acc'])\n"
     ]
    },
    {
     "data": {
      "image/png": "[encoded data removed]",
      "text/plain": [
       "<Figure size 432x288 with 1 Axes>"
      ]
     },
     "metadata": {
      "needs_background": "light"
     },
     "output_type": "display_data"
    },
    {
     "data": {
      "image/png": "[encoded data removed]",
      "text/plain": [
       "<Figure size 432x288 with 1 Axes>"
      ]
     },
     "metadata": {
      "needs_background": "light"
     },
     "output_type": "display_data"
    }
   ],
   "source": [
    "# list all data in history\n",
    "print(history.history.keys())\n",
    "# summarize history for accuracy\n",
    "plt.plot(history.history['acc'])\n",
    "plt.plot(history.history['val_acc'])\n",
    "plt.title('model accuracy')\n",
    "plt.ylabel('accuracy')\n",
    "plt.xlabel('epoch')\n",
    "plt.legend(['train', 'validation'], loc='upper left')\n",
    "plt.show()\n",
    "# summarize history for loss\n",
    "plt.plot(history.history['loss'])\n",
    "plt.plot(history.history['val_loss'])\n",
    "plt.title('model loss')\n",
    "plt.ylabel('loss')\n",
    "plt.xlabel('epoch')\n",
    "plt.legend(['train', 'validation'], loc='upper left')\n",
    "plt.show()"
   ]
  },
  {
   "cell_type": "code",
   "execution_count": 18,
   "metadata": {},
   "outputs": [
    {
     "name": "stdout",
     "output_type": "stream",
     "text": [
      "Training accuracy: 98.40% / Validation accuracy: 91.45%\n"
     ]
    }
   ],
   "source": [
    "print(\"Training accuracy: %.2f%% / Validation accuracy: %.2f%%\" % \n",
    "      (100*history.history['acc'][-1], 100*history.history['val_acc'][-1]))"
   ]
  },
  {
   "cell_type": "code",
   "execution_count": 21,
   "metadata": {},
   "outputs": [],
   "source": [
    "from keras.models import Model\n",
    "layer_outputs = [layer.output for layer in model.layers]\n",
    "activation_model = Model(inputs=model.input, outputs=layer_outputs)\n",
    "activations = activation_model.predict(X_train[10].reshape(1,13,431,1))"
   ]
  },
  {
   "cell_type": "code",
   "execution_count": 22,
   "metadata": {},
   "outputs": [],
   "source": [
    "def display_activation(activations, col_size, row_size, act_index): \n",
    "    activation = activations[act_index]\n",
    "    activation_index=0\n",
    "    fig, ax = plt.subplots(row_size, col_size, figsize=(row_size*2.5,col_size*1.5))\n",
    "    for row in range(0,row_size):\n",
    "        for col in range(0,col_size):\n",
    "            ax[row][col].imshow(activation[0, :, :, activation_index], cmap='gray')\n",
    "            activation_index += 1"
   ]
  },
  {
   "cell_type": "code",
   "execution_count": 26,
   "metadata": {},
   "outputs": [
    {
     "data": {
      "text/plain": [
       "<matplotlib.image.AxesImage at 0x7f063c1b2d30>"
      ]
     },
     "execution_count": 26,
     "metadata": {},
     "output_type": "execute_result"
    },
    {
     "data": {
      "image/png": "[encoded data removed]",
      "text/plain": [
       "<Figure size 432x288 with 1 Axes>"
      ]
     },
     "metadata": {
      "needs_background": "light"
     },
     "output_type": "display_data"
    }
   ],
   "source": [
    "plt.imshow(X_train[10])"
   ]
  },
  {
   "cell_type": "code",
   "execution_count": 32,
   "metadata": {},
   "outputs": [
    {
     "data": {
      "image/png": "[encoded data removed]",
      "text/plain": [
       "<Figure size 900x324 with 15 Axes>"
      ]
     },
     "metadata": {
      "needs_background": "light"
     },
     "output_type": "display_data"
    }
   ],
   "source": [
    "display_activation(activations, 3, 5, 3)"
   ]
  },
  {
   "cell_type": "code",
   "execution_count": 36,
   "metadata": {},
   "outputs": [],
   "source": [
    "X_val = X_val.reshape(1170,13,431,1)"
   ]
  },
  {
   "cell_type": "code",
   "execution_count": 37,
   "metadata": {},
   "outputs": [
    {
     "data": {
      "text/plain": [
       "(1170, 13, 431, 1)"
      ]
     },
     "execution_count": 37,
     "metadata": {},
     "output_type": "execute_result"
    }
   ],
   "source": [
    "X_val.shape"
   ]
  },
  {
   "cell_type": "code",
   "execution_count": 38,
   "metadata": {},
   "outputs": [],
   "source": [
    "Y_prediction = model.predict(X_val)\n",
    "# Convert predictions classes to one hot vectors \n",
    "Y_pred_classes = np.argmax(Y_prediction,axis = 1) \n",
    "# Convert validation observations to one hot vectors\n",
    "Y_true = np.argmax(y_val,axis = 1) \n",
    "# compute the confusion matrix\n",
    "confusion_mtx = confusion_matrix(Y_true, Y_pred_classes) "
   ]
  },
  {
   "cell_type": "code",
   "execution_count": 39,
   "metadata": {},
   "outputs": [
    {
     "data": {
      "text/plain": [
       "<matplotlib.axes._subplots.AxesSubplot at 0x7f06342f78d0>"
      ]
     },
     "execution_count": 39,
     "metadata": {},
     "output_type": "execute_result"
    },
    {
     "data": {
      "image/png": "[encoded data removed]",
      "text/plain": [
       "<Figure size 432x288 with 2 Axes>"
      ]
     },
     "metadata": {
      "needs_background": "light"
     },
     "output_type": "display_data"
    }
   ],
   "source": [
    "sns.heatmap(confusion_mtx, annot=True, fmt=\"d\")"
   ]
  },
  {
   "cell_type": "code",
   "execution_count": 43,
   "metadata": {},
   "outputs": [
    {
     "name": "stdout",
     "output_type": "stream",
     "text": [
      "F1 Score:  0.9135054424697749\n",
      "Precision Score:  0.9264171977871731\n",
      "Recall Score:  0.905911680911681\n"
     ]
    }
   ],
   "source": [
    "print(\"F1 Score: \", f1_score(Y_true, Y_pred_classes, average=\"macro\"))\n",
    "print(\"Precision Score: \", precision_score(Y_true, Y_pred_classes, average=\"macro\"))\n",
    "print(\"Recall Score: \", recall_score(Y_true, Y_pred_classes, average=\"macro\")) "
   ]
  },
  {
   "cell_type": "code",
   "execution_count": 44,
   "metadata": {},
   "outputs": [
    {
     "data": {
      "text/plain": [
       "dtype('float64')"
      ]
     },
     "execution_count": 44,
     "metadata": {},
     "output_type": "execute_result"
    }
   ],
   "source": []
  },
  {
   "cell_type": "code",
   "execution_count": null,
   "metadata": {},
   "outputs": [],
   "source": []
  },
  {
   "cell_type": "code",
   "execution_count": null,
   "metadata": {},
   "outputs": [],
   "source": []
  },
  {
   "cell_type": "code",
   "execution_count": null,
   "metadata": {},
   "outputs": [],
   "source": [
    "X_train[0,:].reshape(1,-1)"
   ]
  },
  {
   "cell_type": "code",
   "execution_count": null,
   "metadata": {
    "scrolled": false
   },
   "outputs": [],
   "source": [
    "K.variable(value=X_train)"
   ]
  },
  {
   "cell_type": "code",
   "execution_count": null,
   "metadata": {},
   "outputs": [],
   "source": [
    "# inp = model.input                                           # input placeholder\n",
    "# outputs = [layer.output for layer in model.layers]          # all layer outputs\n",
    "# functors = [K.function([inp, K.learning_phase()], [out]) for out in outputs]    # evaluation functions\n",
    "\n",
    "# # Testing\n",
    "# test = K.expand_dims(X_val, axis=-1)\n",
    "# layer_outs = [func([test, 1.]) for func in functors]\n",
    "# print(layer_outs)"
   ]
  },
  {
   "cell_type": "code",
   "execution_count": null,
   "metadata": {},
   "outputs": [],
   "source": [
    "get_3rd_layer_output = K.function([model.layers[0].input],\n",
    "                                  [model.layers[3].output])\n",
    "layer_output = get_3rd_layer_output([X_train[0,:].reshape(1,-1)])[0]"
   ]
  },
  {
   "cell_type": "code",
   "execution_count": null,
   "metadata": {},
   "outputs": [],
   "source": [
    "intermediates = []\n",
    "color_intermediates = []\n",
    "for i in range(len(X_train)):\n",
    "    output_class = np.argmax(y_train[i,:])\n",
    "    intermediate_tensor = intermediate_tensor_function([X_train[i,:].reshape(1,-1)])[0]\n",
    "    intermediates.append(intermediate_tensor[0])\n",
    "    if output_class == 0:\n",
    "        color_intermediates.append(\"#0000ff\")\n",
    "    elif output_class == 1:\n",
    "        color_intermediates.append(\"#ff0000\")\n",
    "    else:\n",
    "        color_intermediates.append(\"#7fff00\")"
   ]
  },
  {
   "cell_type": "code",
   "execution_count": null,
   "metadata": {},
   "outputs": [],
   "source": [
    "tsne = TSNE(n_components=3, random_state=0)\n",
    "intermediates_tsne = tsne.fit_transform(intermediates)"
   ]
  },
  {
   "cell_type": "code",
   "execution_count": null,
   "metadata": {},
   "outputs": [],
   "source": [
    "plt.scatter(x = intermediates_tsne[:,0], y=intermediates_tsne[:,1], color=color_intermediates)\n",
    "plt.show()"
   ]
  }
 ],
 "metadata": {
  "kernelspec": {
   "display_name": "Python 3",
   "language": "python",
   "name": "python3"
  },
  "language_info": {
   "codemirror_mode": {
    "name": "ipython",
    "version": 3
   },
   "file_extension": ".py",
   "mimetype": "text/x-python",
   "name": "python",
   "nbconvert_exporter": "python",
   "pygments_lexer": "ipython3",
   "version": "3.5.2"
  }
 },
 "nbformat": 4,
 "nbformat_minor": 2
}
